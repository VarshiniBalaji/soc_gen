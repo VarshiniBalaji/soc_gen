{
 "cells": [
  {
   "cell_type": "code",
   "execution_count": 31,
   "metadata": {
    "scrolled": false
   },
   "outputs": [],
   "source": [
    "import pandas as pd"
   ]
  },
  {
   "cell_type": "code",
   "execution_count": 32,
   "metadata": {
    "scrolled": false
   },
   "outputs": [],
   "source": [
    "train=pd.read_csv('train.csv')"
   ]
  },
  {
   "cell_type": "code",
   "execution_count": 33,
   "metadata": {
    "scrolled": false
   },
   "outputs": [
    {
     "data": {
      "text/plain": [
       "PF00007368    1\n",
       "PF00008854    1\n",
       "PF00002132    1\n",
       "PF00001193    1\n",
       "PF00011566    1\n",
       "PF00010021    1\n",
       "PF00008563    1\n",
       "PF00003876    1\n",
       "PF00003430    1\n",
       "PF00004285    1\n",
       "PF00003636    1\n",
       "PF00009769    1\n",
       "PF00013610    1\n",
       "PF00011402    1\n",
       "PF00005767    1\n",
       "PF00009085    1\n",
       "PF00004969    1\n",
       "PF00015185    1\n",
       "PF00008979    1\n",
       "PF00004299    1\n",
       "PF00006059    1\n",
       "PF00015090    1\n",
       "PF00002363    1\n",
       "PF00007149    1\n",
       "PF00013471    1\n",
       "PF00015481    1\n",
       "PF00005217    1\n",
       "PF00009117    1\n",
       "PF00012970    1\n",
       "PF00009213    1\n",
       "             ..\n",
       "PF00002425    1\n",
       "PF00010436    1\n",
       "PF00012137    1\n",
       "PF00004761    1\n",
       "PF00014858    1\n",
       "PF00003942    1\n",
       "PF00004887    1\n",
       "PF00002667    1\n",
       "PF00009561    1\n",
       "PF00013409    1\n",
       "PF00006305    1\n",
       "PF00003823    1\n",
       "PF00012146    1\n",
       "PF00008084    1\n",
       "PF00011705    1\n",
       "PF00012862    1\n",
       "PF00001315    1\n",
       "PF00009182    1\n",
       "PF00009459    1\n",
       "PF00007172    1\n",
       "PF00003351    1\n",
       "PF00015306    1\n",
       "PF00002859    1\n",
       "PF00014694    1\n",
       "PF00014045    1\n",
       "PF00013064    1\n",
       "PF00014878    1\n",
       "PF00006438    1\n",
       "PF00008458    1\n",
       "PF00013305    1\n",
       "Name: portfolio_id, Length: 9366, dtype: int64"
      ]
     },
     "execution_count": 33,
     "metadata": {},
     "output_type": "execute_result"
    }
   ],
   "source": [
    "train['portfolio_id'].value_counts()"
   ]
  },
  {
   "cell_type": "code",
   "execution_count": 34,
   "metadata": {
    "collapsed": true,
    "scrolled": false
   },
   "outputs": [
    {
     "data": {
      "text/plain": [
       "DSK00006011    10\n",
       "DSK00005869    10\n",
       "DSK00005754     9\n",
       "DSK00005718     9\n",
       "DSK00005951     9\n",
       "DSK00005724     9\n",
       "DSK00005895     9\n",
       "DSK00005905     8\n",
       "DSK00006030     8\n",
       "DSK00005789     8\n",
       "DSK00005727     8\n",
       "DSK00005810     7\n",
       "DSK00005739     7\n",
       "DSK00005568     7\n",
       "DSK00005900     7\n",
       "DSK00005943     7\n",
       "DSK00005469     7\n",
       "DSK00005715     7\n",
       "DSK00005733     7\n",
       "DSK00005803     7\n",
       "DSK00005468     7\n",
       "DSK00005637     7\n",
       "DSK00006026     7\n",
       "DSK00005975     7\n",
       "DSK00005475     7\n",
       "DSK00004410     7\n",
       "DSK00005938     7\n",
       "DSK00005569     7\n",
       "DSK00006004     7\n",
       "DSK00005678     7\n",
       "               ..\n",
       "DSK00005325     1\n",
       "DSK00006328     1\n",
       "DSK00002652     1\n",
       "DSK00004981     1\n",
       "DSK00004872     1\n",
       "DSK00005670     1\n",
       "DSK00003158     1\n",
       "DSK00006340     1\n",
       "DSK00003543     1\n",
       "DSK00003549     1\n",
       "DSK00002411     1\n",
       "DSK00001684     1\n",
       "DSK00001524     1\n",
       "DSK00003735     1\n",
       "DSK00003661     1\n",
       "DSK00004136     1\n",
       "DSK00003390     1\n",
       "DSK00003886     1\n",
       "DSK00001595     1\n",
       "DSK00006484     1\n",
       "DSK00004468     1\n",
       "DSK00001862     1\n",
       "DSK00001362     1\n",
       "DSK00002791     1\n",
       "DSK00002231     1\n",
       "DSK00001597     1\n",
       "DSK00002290     1\n",
       "DSK00005762     1\n",
       "DSK00004418     1\n",
       "DSK00002757     1\n",
       "Name: desk_id, Length: 3992, dtype: int64"
      ]
     },
     "execution_count": 34,
     "metadata": {},
     "output_type": "execute_result"
    }
   ],
   "source": [
    "train['desk_id'].value_counts()"
   ]
  },
  {
   "cell_type": "code",
   "execution_count": 35,
   "metadata": {
    "collapsed": true,
    "scrolled": false
   },
   "outputs": [
    {
     "data": {
      "text/plain": [
       "OFF00001002    6458\n",
       "OFF00001001    2908\n",
       "Name: office_id, dtype: int64"
      ]
     },
     "execution_count": 35,
     "metadata": {},
     "output_type": "execute_result"
    }
   ],
   "source": [
    "train['office_id'].value_counts()"
   ]
  },
  {
   "cell_type": "code",
   "execution_count": 36,
   "metadata": {
    "collapsed": true,
    "scrolled": false
   },
   "outputs": [
    {
     "data": {
      "text/plain": [
       "C    5260\n",
       "A    2424\n",
       "B    1211\n",
       "D     469\n",
       "E       2\n",
       "Name: pf_category, dtype: int64"
      ]
     },
     "execution_count": 36,
     "metadata": {},
     "output_type": "execute_result"
    }
   ],
   "source": [
    "train['pf_category'].value_counts()"
   ]
  },
  {
   "cell_type": "code",
   "execution_count": 37,
   "metadata": {
    "collapsed": true,
    "scrolled": false
   },
   "outputs": [
    {
     "data": {
      "text/plain": [
       "M    5307\n",
       "T    2955\n",
       "N     562\n",
       "Z     481\n",
       "U      61\n",
       "Name: country_code, dtype: int64"
      ]
     },
     "execution_count": 37,
     "metadata": {},
     "output_type": "execute_result"
    }
   ],
   "source": [
    "train['country_code'].value_counts()"
   ]
  },
  {
   "cell_type": "code",
   "execution_count": 38,
   "metadata": {
    "collapsed": true,
    "scrolled": false
   },
   "outputs": [
    {
     "data": {
      "text/plain": [
       "CHF    5307\n",
       "USD    2955\n",
       "GBP     562\n",
       "EUR     481\n",
       "JPY      61\n",
       "Name: currency, dtype: int64"
      ]
     },
     "execution_count": 38,
     "metadata": {},
     "output_type": "execute_result"
    }
   ],
   "source": [
    "train['currency'].value_counts()"
   ]
  },
  {
   "cell_type": "code",
   "execution_count": 39,
   "metadata": {
    "collapsed": true,
    "scrolled": false
   },
   "outputs": [
    {
     "data": {
      "text/plain": [
       "E    5734\n",
       "A    2316\n",
       "B     638\n",
       "C     562\n",
       "F      61\n",
       "D      47\n",
       "H       7\n",
       "G       1\n",
       "Name: type, dtype: int64"
      ]
     },
     "execution_count": 39,
     "metadata": {},
     "output_type": "execute_result"
    }
   ],
   "source": [
    "train['type'].value_counts()"
   ]
  },
  {
   "cell_type": "code",
   "execution_count": 40,
   "metadata": {
    "collapsed": true,
    "scrolled": false
   },
   "outputs": [
    {
     "data": {
      "text/plain": [
       "True    3667\n",
       "Name: indicator_code, dtype: int64"
      ]
     },
     "execution_count": 40,
     "metadata": {},
     "output_type": "execute_result"
    }
   ],
   "source": [
    "train['indicator_code'].value_counts()"
   ]
  },
  {
   "cell_type": "code",
   "execution_count": 41,
   "metadata": {
    "collapsed": true,
    "scrolled": false
   },
   "outputs": [
    {
     "data": {
      "text/plain": [
       "False    2437\n",
       "True     1228\n",
       "Name: hedge_value, dtype: int64"
      ]
     },
     "execution_count": 41,
     "metadata": {},
     "output_type": "execute_result"
    }
   ],
   "source": [
    "train['hedge_value'].value_counts()"
   ]
  },
  {
   "cell_type": "code",
   "execution_count": 42,
   "metadata": {
    "collapsed": true,
    "scrolled": false
   },
   "outputs": [
    {
     "data": {
      "text/plain": [
       "True    6282\n",
       "Name: status, dtype: int64"
      ]
     },
     "execution_count": 42,
     "metadata": {},
     "output_type": "execute_result"
    }
   ],
   "source": [
    "train['status'].value_counts()"
   ]
  },
  {
   "cell_type": "code",
   "execution_count": 43,
   "metadata": {
    "scrolled": false
   },
   "outputs": [],
   "source": [
    "train_copy=train.copy()"
   ]
  },
  {
   "cell_type": "code",
   "execution_count": 44,
   "metadata": {
    "scrolled": false
   },
   "outputs": [],
   "source": [
    "sd=list(train['start_date'])\n",
    "for i in range(len(sd)):\n",
    "    sd[i]=str(sd[i])"
   ]
  },
  {
   "cell_type": "code",
   "execution_count": 45,
   "metadata": {
    "scrolled": false
   },
   "outputs": [],
   "source": [
    "train['start_date']=pd.to_datetime(sd, format='%Y-%m-%d')"
   ]
  },
  {
   "cell_type": "code",
   "execution_count": 46,
   "metadata": {
    "collapsed": true,
    "scrolled": false
   },
   "outputs": [
    {
     "data": {
      "text/plain": [
       "0      2004-07-20\n",
       "1      2004-07-09\n",
       "2      2004-07-23\n",
       "3      2004-06-09\n",
       "4      2004-06-09\n",
       "5      2004-07-07\n",
       "6      2004-07-06\n",
       "7      2004-07-06\n",
       "8      2004-04-19\n",
       "9      2004-04-14\n",
       "10     2004-06-11\n",
       "11     2004-08-05\n",
       "12     2004-08-05\n",
       "13     2004-08-09\n",
       "14     2004-05-11\n",
       "15     2004-08-10\n",
       "16     2004-08-10\n",
       "17     2004-08-11\n",
       "18     2004-07-20\n",
       "19     2004-08-12\n",
       "20     2004-08-12\n",
       "21     2004-08-25\n",
       "22     2004-09-06\n",
       "23     2004-09-07\n",
       "24     2004-09-09\n",
       "25     2004-09-09\n",
       "26     2004-09-09\n",
       "27     2004-09-10\n",
       "28     2004-09-10\n",
       "29     2004-09-13\n",
       "          ...    \n",
       "9336   2015-10-26\n",
       "9337   2015-12-11\n",
       "9338   2015-12-11\n",
       "9339   2016-05-26\n",
       "9340   2016-06-01\n",
       "9341   2016-05-27\n",
       "9342   2016-05-27\n",
       "9343   2016-06-14\n",
       "9344   2016-06-16\n",
       "9345   2016-06-22\n",
       "9346   2016-06-22\n",
       "9347   2016-06-20\n",
       "9348   2016-06-20\n",
       "9349   2016-06-20\n",
       "9350   2016-06-21\n",
       "9351   2016-06-21\n",
       "9352   2016-06-21\n",
       "9353   2016-06-21\n",
       "9354   2016-06-23\n",
       "9355   2016-06-23\n",
       "9356   2016-06-23\n",
       "9357   2016-06-23\n",
       "9358   2016-06-23\n",
       "9359   2016-06-23\n",
       "9360   2016-06-24\n",
       "9361   2016-06-24\n",
       "9362   2016-06-24\n",
       "9363   2016-06-28\n",
       "9364   2016-06-28\n",
       "9365   2016-06-28\n",
       "Name: start_date, Length: 9366, dtype: datetime64[ns]"
      ]
     },
     "execution_count": 46,
     "metadata": {},
     "output_type": "execute_result"
    }
   ],
   "source": [
    "train['start_date']"
   ]
  },
  {
   "cell_type": "code",
   "execution_count": 47,
   "metadata": {
    "scrolled": false
   },
   "outputs": [],
   "source": [
    "cd=list(train['creation_date'])\n",
    "for i in range(len(cd)):\n",
    "    cd[i]=str(cd[i])"
   ]
  },
  {
   "cell_type": "code",
   "execution_count": 48,
   "metadata": {
    "scrolled": false
   },
   "outputs": [],
   "source": [
    "train['creation_date']=pd.to_datetime(cd, format='%Y-%m-%d')"
   ]
  },
  {
   "cell_type": "code",
   "execution_count": 49,
   "metadata": {
    "collapsed": true,
    "scrolled": false
   },
   "outputs": [
    {
     "data": {
      "text/plain": [
       "0      2004-07-20\n",
       "1      2004-07-23\n",
       "2      2004-07-23\n",
       "3      2004-07-23\n",
       "4      2004-07-23\n",
       "5      2004-07-26\n",
       "6      2004-07-26\n",
       "7      2004-07-26\n",
       "8      2004-07-26\n",
       "9      2004-07-27\n",
       "10     2004-08-04\n",
       "11     2004-08-05\n",
       "12     2004-08-05\n",
       "13     2004-08-09\n",
       "14     2004-08-10\n",
       "15     2004-08-10\n",
       "16     2004-08-10\n",
       "17     2004-08-11\n",
       "18     2004-08-11\n",
       "19     2004-08-12\n",
       "20     2004-08-12\n",
       "21     2004-08-25\n",
       "22     2004-09-06\n",
       "23     2004-09-07\n",
       "24     2004-09-09\n",
       "25     2004-09-09\n",
       "26     2004-09-09\n",
       "27     2004-09-10\n",
       "28     2004-09-10\n",
       "29     2004-09-13\n",
       "          ...    \n",
       "9336   2015-10-22\n",
       "9337   2015-12-10\n",
       "9338   2015-12-10\n",
       "9339   2016-05-26\n",
       "9340   2016-05-27\n",
       "9341   2016-05-27\n",
       "9342   2016-05-27\n",
       "9343   2016-06-14\n",
       "9344   2016-06-15\n",
       "9345   2016-06-20\n",
       "9346   2016-06-20\n",
       "9347   2016-06-20\n",
       "9348   2016-06-20\n",
       "9349   2016-06-20\n",
       "9350   2016-06-21\n",
       "9351   2016-06-21\n",
       "9352   2016-06-21\n",
       "9353   2016-06-21\n",
       "9354   2016-06-21\n",
       "9355   2016-06-21\n",
       "9356   2016-06-23\n",
       "9357   2016-06-23\n",
       "9358   2016-06-23\n",
       "9359   2016-06-23\n",
       "9360   2016-06-24\n",
       "9361   2016-06-24\n",
       "9362   2016-06-24\n",
       "9363   2016-06-28\n",
       "9364   2016-06-28\n",
       "9365   2016-06-28\n",
       "Name: creation_date, Length: 9366, dtype: datetime64[ns]"
      ]
     },
     "execution_count": 49,
     "metadata": {},
     "output_type": "execute_result"
    }
   ],
   "source": [
    "train['creation_date']"
   ]
  },
  {
   "cell_type": "code",
   "execution_count": 50,
   "metadata": {
    "scrolled": false
   },
   "outputs": [],
   "source": [
    "seld=list(train['sell_date'])\n",
    "for i in range(len(seld)):\n",
    "    seld[i]=str(seld[i])"
   ]
  },
  {
   "cell_type": "code",
   "execution_count": 51,
   "metadata": {
    "scrolled": false
   },
   "outputs": [],
   "source": [
    "train['sell_date']=pd.to_datetime(seld, format='%Y-%m-%d')"
   ]
  },
  {
   "cell_type": "code",
   "execution_count": 52,
   "metadata": {
    "collapsed": true,
    "scrolled": false
   },
   "outputs": [
    {
     "data": {
      "text/plain": [
       "0      2004-08-12\n",
       "1      2004-08-12\n",
       "2      2004-08-17\n",
       "3      2004-07-13\n",
       "4      2004-07-13\n",
       "5      2004-08-10\n",
       "6      2004-08-09\n",
       "7      2004-08-09\n",
       "8      2004-07-20\n",
       "9      2004-07-13\n",
       "10     2004-07-16\n",
       "11     2004-09-08\n",
       "12     2004-09-08\n",
       "13     2004-09-09\n",
       "14     2004-08-12\n",
       "15     2004-09-13\n",
       "16     2004-09-13\n",
       "17     2004-09-14\n",
       "18     2004-08-27\n",
       "19     2004-09-15\n",
       "20     2004-09-15\n",
       "21     2004-09-29\n",
       "22     2004-10-08\n",
       "23     2004-10-11\n",
       "24     2004-12-14\n",
       "25     2004-10-13\n",
       "26     2004-10-13\n",
       "27     2004-10-14\n",
       "28     2004-10-14\n",
       "29     2004-10-15\n",
       "          ...    \n",
       "9336   2015-11-26\n",
       "9337   2016-03-14\n",
       "9338   2016-01-14\n",
       "9339   2016-08-24\n",
       "9340   2016-06-08\n",
       "9341   2016-06-27\n",
       "9342   2016-06-03\n",
       "9343   2016-06-21\n",
       "9344   2016-07-18\n",
       "9345   2016-06-29\n",
       "9346   2016-08-22\n",
       "9347   2016-08-19\n",
       "9348   2016-06-27\n",
       "9349   2016-06-27\n",
       "9350   2016-09-21\n",
       "9351   2016-06-28\n",
       "9352   2016-06-28\n",
       "9353   2016-06-28\n",
       "9354   2016-09-23\n",
       "9355   2016-07-25\n",
       "9356   2016-06-30\n",
       "9357   2016-06-30\n",
       "9358   2016-06-30\n",
       "9359   2016-06-24\n",
       "9360   2016-06-27\n",
       "9361   2016-06-27\n",
       "9362   2016-07-01\n",
       "9363   2016-07-05\n",
       "9364   2016-07-05\n",
       "9365   2016-07-05\n",
       "Name: sell_date, Length: 9366, dtype: datetime64[ns]"
      ]
     },
     "execution_count": 52,
     "metadata": {},
     "output_type": "execute_result"
    }
   ],
   "source": [
    "train['sell_date']"
   ]
  },
  {
   "cell_type": "code",
   "execution_count": 53,
   "metadata": {
    "scrolled": false
   },
   "outputs": [],
   "source": [
    "profit=train['sold']-train['bought']"
   ]
  },
  {
   "cell_type": "code",
   "execution_count": 54,
   "metadata": {
    "collapsed": true,
    "scrolled": false
   },
   "outputs": [
    {
     "data": {
      "text/plain": [
       "0       1.903367e+05\n",
       "1       6.625633e+05\n",
       "2       9.446704e+04\n",
       "3       3.041586e+05\n",
       "4       2.598431e+05\n",
       "5       8.973456e+04\n",
       "6       1.116897e+05\n",
       "7       2.473659e+05\n",
       "8       4.228440e+05\n",
       "9       1.062003e+06\n",
       "10      1.381767e+05\n",
       "11      2.322108e+05\n",
       "12      9.514934e+04\n",
       "13      1.060202e+05\n",
       "14      4.219811e+05\n",
       "15      1.120278e+06\n",
       "16      1.622071e+05\n",
       "17      2.220035e+05\n",
       "18      9.887280e+04\n",
       "19      7.626794e+04\n",
       "20      1.240866e+05\n",
       "21      8.511529e+04\n",
       "22      2.322108e+05\n",
       "23      1.644320e+05\n",
       "24      8.601240e+05\n",
       "25      6.972760e+05\n",
       "26      1.522694e+05\n",
       "27      6.716984e+04\n",
       "28      1.272782e+05\n",
       "29      1.181143e+05\n",
       "            ...     \n",
       "9336    6.630356e+02\n",
       "9337    1.523590e+04\n",
       "9338    9.472018e+02\n",
       "9339    1.174800e+05\n",
       "9340    1.343682e+04\n",
       "9341    1.894444e+04\n",
       "9342    1.207841e+04\n",
       "9343    1.004369e+04\n",
       "9344    3.831644e+04\n",
       "9345    1.177065e+04\n",
       "9346   -1.305032e+04\n",
       "9347    1.100000e+05\n",
       "9348    1.377338e+03\n",
       "9349    4.693150e+03\n",
       "9350   -2.070200e+04\n",
       "9351    1.001000e+04\n",
       "9352    8.630737e+03\n",
       "9353    6.251438e+03\n",
       "9354   -2.796579e+04\n",
       "9355   -4.547273e+03\n",
       "9356    5.783663e+03\n",
       "9357    6.799100e+03\n",
       "9358    1.608337e+03\n",
       "9359    3.847433e+02\n",
       "9360    4.798200e+03\n",
       "9361    6.699000e+02\n",
       "9362    8.020833e+03\n",
       "9363    1.069444e+04\n",
       "9364    3.208333e+03\n",
       "9365    8.707417e+03\n",
       "Length: 9366, dtype: float64"
      ]
     },
     "execution_count": 54,
     "metadata": {},
     "output_type": "execute_result"
    }
   ],
   "source": [
    "profit"
   ]
  },
  {
   "cell_type": "code",
   "execution_count": 55,
   "metadata": {
    "collapsed": true,
    "scrolled": false
   },
   "outputs": [
    {
     "data": {
      "text/html": [
       "<div>\n",
       "<style>\n",
       "    .dataframe thead tr:only-child th {\n",
       "        text-align: right;\n",
       "    }\n",
       "\n",
       "    .dataframe thead th {\n",
       "        text-align: left;\n",
       "    }\n",
       "\n",
       "    .dataframe tbody tr th {\n",
       "        vertical-align: top;\n",
       "    }\n",
       "</style>\n",
       "<table border=\"1\" class=\"dataframe\">\n",
       "  <thead>\n",
       "    <tr style=\"text-align: right;\">\n",
       "      <th></th>\n",
       "      <th>portfolio_id</th>\n",
       "      <th>desk_id</th>\n",
       "      <th>office_id</th>\n",
       "      <th>pf_category</th>\n",
       "      <th>start_date</th>\n",
       "      <th>sold</th>\n",
       "      <th>country_code</th>\n",
       "      <th>euribor_rate</th>\n",
       "      <th>currency</th>\n",
       "      <th>libor_rate</th>\n",
       "      <th>bought</th>\n",
       "      <th>creation_date</th>\n",
       "      <th>indicator_code</th>\n",
       "      <th>sell_date</th>\n",
       "      <th>type</th>\n",
       "      <th>hedge_value</th>\n",
       "      <th>status</th>\n",
       "      <th>return</th>\n",
       "    </tr>\n",
       "  </thead>\n",
       "  <tbody>\n",
       "    <tr>\n",
       "      <th>0</th>\n",
       "      <td>PF00001002</td>\n",
       "      <td>DSK00001001</td>\n",
       "      <td>OFF00001002</td>\n",
       "      <td>B</td>\n",
       "      <td>2004-07-20</td>\n",
       "      <td>110000000.0</td>\n",
       "      <td>T</td>\n",
       "      <td>0.02074</td>\n",
       "      <td>USD</td>\n",
       "      <td>2.332216</td>\n",
       "      <td>1.098097e+08</td>\n",
       "      <td>2004-07-20</td>\n",
       "      <td>NaN</td>\n",
       "      <td>2004-08-12</td>\n",
       "      <td>B</td>\n",
       "      <td>NaN</td>\n",
       "      <td>NaN</td>\n",
       "      <td>0.02496</td>\n",
       "    </tr>\n",
       "    <tr>\n",
       "      <th>1</th>\n",
       "      <td>PF00001003</td>\n",
       "      <td>DSK00001002</td>\n",
       "      <td>OFF00001001</td>\n",
       "      <td>A</td>\n",
       "      <td>2004-07-09</td>\n",
       "      <td>176671000.0</td>\n",
       "      <td>N</td>\n",
       "      <td>0.02074</td>\n",
       "      <td>GBP</td>\n",
       "      <td>5.269617</td>\n",
       "      <td>1.760084e+08</td>\n",
       "      <td>2004-07-23</td>\n",
       "      <td>NaN</td>\n",
       "      <td>2004-08-12</td>\n",
       "      <td>C</td>\n",
       "      <td>NaN</td>\n",
       "      <td>NaN</td>\n",
       "      <td>0.05496</td>\n",
       "    </tr>\n",
       "    <tr>\n",
       "      <th>2</th>\n",
       "      <td>PF00001005</td>\n",
       "      <td>DSK00001004</td>\n",
       "      <td>OFF00001001</td>\n",
       "      <td>A</td>\n",
       "      <td>2004-07-23</td>\n",
       "      <td>56474000.0</td>\n",
       "      <td>T</td>\n",
       "      <td>0.02074</td>\n",
       "      <td>USD</td>\n",
       "      <td>2.332216</td>\n",
       "      <td>5.637953e+07</td>\n",
       "      <td>2004-07-23</td>\n",
       "      <td>NaN</td>\n",
       "      <td>2004-08-17</td>\n",
       "      <td>A</td>\n",
       "      <td>NaN</td>\n",
       "      <td>NaN</td>\n",
       "      <td>0.02496</td>\n",
       "    </tr>\n",
       "    <tr>\n",
       "      <th>3</th>\n",
       "      <td>PF00001006</td>\n",
       "      <td>DSK00001005</td>\n",
       "      <td>OFF00001001</td>\n",
       "      <td>A</td>\n",
       "      <td>2004-06-09</td>\n",
       "      <td>164813000.0</td>\n",
       "      <td>T</td>\n",
       "      <td>0.02074</td>\n",
       "      <td>USD</td>\n",
       "      <td>2.332216</td>\n",
       "      <td>1.645088e+08</td>\n",
       "      <td>2004-07-23</td>\n",
       "      <td>NaN</td>\n",
       "      <td>2004-07-13</td>\n",
       "      <td>A</td>\n",
       "      <td>NaN</td>\n",
       "      <td>NaN</td>\n",
       "      <td>0.02496</td>\n",
       "    </tr>\n",
       "    <tr>\n",
       "      <th>4</th>\n",
       "      <td>PF00001007</td>\n",
       "      <td>DSK00001005</td>\n",
       "      <td>OFF00001002</td>\n",
       "      <td>B</td>\n",
       "      <td>2004-06-09</td>\n",
       "      <td>140800000.0</td>\n",
       "      <td>T</td>\n",
       "      <td>0.02074</td>\n",
       "      <td>USD</td>\n",
       "      <td>2.332216</td>\n",
       "      <td>1.405402e+08</td>\n",
       "      <td>2004-07-23</td>\n",
       "      <td>NaN</td>\n",
       "      <td>2004-07-13</td>\n",
       "      <td>B</td>\n",
       "      <td>NaN</td>\n",
       "      <td>NaN</td>\n",
       "      <td>0.02496</td>\n",
       "    </tr>\n",
       "  </tbody>\n",
       "</table>\n",
       "</div>"
      ],
      "text/plain": [
       "  portfolio_id      desk_id    office_id pf_category start_date         sold  \\\n",
       "0   PF00001002  DSK00001001  OFF00001002           B 2004-07-20  110000000.0   \n",
       "1   PF00001003  DSK00001002  OFF00001001           A 2004-07-09  176671000.0   \n",
       "2   PF00001005  DSK00001004  OFF00001001           A 2004-07-23   56474000.0   \n",
       "3   PF00001006  DSK00001005  OFF00001001           A 2004-06-09  164813000.0   \n",
       "4   PF00001007  DSK00001005  OFF00001002           B 2004-06-09  140800000.0   \n",
       "\n",
       "  country_code  euribor_rate currency  libor_rate        bought creation_date  \\\n",
       "0            T       0.02074      USD    2.332216  1.098097e+08    2004-07-20   \n",
       "1            N       0.02074      GBP    5.269617  1.760084e+08    2004-07-23   \n",
       "2            T       0.02074      USD    2.332216  5.637953e+07    2004-07-23   \n",
       "3            T       0.02074      USD    2.332216  1.645088e+08    2004-07-23   \n",
       "4            T       0.02074      USD    2.332216  1.405402e+08    2004-07-23   \n",
       "\n",
       "  indicator_code  sell_date type hedge_value status   return  \n",
       "0            NaN 2004-08-12    B         NaN    NaN  0.02496  \n",
       "1            NaN 2004-08-12    C         NaN    NaN  0.05496  \n",
       "2            NaN 2004-08-17    A         NaN    NaN  0.02496  \n",
       "3            NaN 2004-07-13    A         NaN    NaN  0.02496  \n",
       "4            NaN 2004-07-13    B         NaN    NaN  0.02496  "
      ]
     },
     "execution_count": 55,
     "metadata": {},
     "output_type": "execute_result"
    }
   ],
   "source": [
    "train.head()"
   ]
  },
  {
   "cell_type": "code",
   "execution_count": 56,
   "metadata": {
    "collapsed": true,
    "scrolled": false
   },
   "outputs": [
    {
     "data": {
      "text/plain": [
       "array([   0,    1,    2, ..., 8416, 8417, 8418])"
      ]
     },
     "execution_count": 56,
     "metadata": {},
     "output_type": "execute_result"
    }
   ],
   "source": [
    "from sklearn import preprocessing\n",
    "p_id = preprocessing.LabelEncoder()\n",
    "p_id.fit(train['portfolio_id'])\n",
    "a=p_id.transform(train['portfolio_id'])\n",
    "a"
   ]
  },
  {
   "cell_type": "code",
   "execution_count": 57,
   "metadata": {
    "scrolled": false
   },
   "outputs": [],
   "source": [
    "b=p_id.inverse_transform(a)"
   ]
  },
  {
   "cell_type": "code",
   "execution_count": 58,
   "metadata": {
    "collapsed": true,
    "scrolled": false
   },
   "outputs": [
    {
     "data": {
      "text/plain": [
       "array(['PF00001002', 'PF00001003', 'PF00001005', ..., 'PF00014145',\n",
       "       'PF00014146', 'PF00014148'], dtype=object)"
      ]
     },
     "execution_count": 58,
     "metadata": {},
     "output_type": "execute_result"
    }
   ],
   "source": [
    "b"
   ]
  },
  {
   "cell_type": "code",
   "execution_count": 61,
   "metadata": {
    "collapsed": true,
    "scrolled": false
   },
   "outputs": [],
   "source": [
    "train['desk_id']=train['desk_id'].fillna('no_desk_id')"
   ]
  },
  {
   "cell_type": "code",
   "execution_count": 66,
   "metadata": {
    "scrolled": false
   },
   "outputs": [
    {
     "data": {
      "text/plain": [
       "no_desk_id     3665\n",
       "DSK00006011      10\n",
       "DSK00005869      10\n",
       "DSK00005718       9\n",
       "DSK00005895       9\n",
       "DSK00005754       9\n",
       "DSK00005724       9\n",
       "DSK00005951       9\n",
       "DSK00005727       8\n",
       "DSK00005789       8\n",
       "DSK00005905       8\n",
       "DSK00006030       8\n",
       "DSK00005468       7\n",
       "DSK00005943       7\n",
       "DSK00005475       7\n",
       "DSK00005637       7\n",
       "DSK00005715       7\n",
       "DSK00005975       7\n",
       "DSK00005803       7\n",
       "DSK00005568       7\n",
       "DSK00005900       7\n",
       "DSK00005739       7\n",
       "DSK00005810       7\n",
       "DSK00005469       7\n",
       "DSK00006026       7\n",
       "DSK00005733       7\n",
       "DSK00004410       7\n",
       "DSK00005938       7\n",
       "DSK00005569       7\n",
       "DSK00006004       7\n",
       "               ... \n",
       "DSK00005325       1\n",
       "DSK00006328       1\n",
       "DSK00002652       1\n",
       "DSK00004981       1\n",
       "DSK00004872       1\n",
       "DSK00005670       1\n",
       "DSK00003158       1\n",
       "DSK00006340       1\n",
       "DSK00003543       1\n",
       "DSK00003549       1\n",
       "DSK00002411       1\n",
       "DSK00001684       1\n",
       "DSK00001524       1\n",
       "DSK00003735       1\n",
       "DSK00003661       1\n",
       "DSK00004136       1\n",
       "DSK00003390       1\n",
       "DSK00003886       1\n",
       "DSK00001595       1\n",
       "DSK00006484       1\n",
       "DSK00004468       1\n",
       "DSK00001862       1\n",
       "DSK00001362       1\n",
       "DSK00002791       1\n",
       "DSK00002231       1\n",
       "DSK00001597       1\n",
       "DSK00002290       1\n",
       "DSK00005762       1\n",
       "DSK00004418       1\n",
       "DSK00002757       1\n",
       "Name: desk_id, Length: 3993, dtype: int64"
      ]
     },
     "execution_count": 66,
     "metadata": {},
     "output_type": "execute_result"
    }
   ],
   "source": [
    "train['desk_id'].value_counts()"
   ]
  },
  {
   "cell_type": "code",
   "execution_count": null,
   "metadata": {
    "collapsed": true,
    "scrolled": false
   },
   "outputs": [],
   "source": []
  }
 ],
 "metadata": {
  "kernelspec": {
   "display_name": "Python 3",
   "language": "python",
   "name": "python3"
  },
  "language_info": {
   "codemirror_mode": {
    "name": "ipython",
    "version": 3
   },
   "file_extension": ".py",
   "mimetype": "text/x-python",
   "name": "python",
   "nbconvert_exporter": "python",
   "pygments_lexer": "ipython3",
   "version": "3.6.0"
  }
 },
 "nbformat": 4,
 "nbformat_minor": 2
}
